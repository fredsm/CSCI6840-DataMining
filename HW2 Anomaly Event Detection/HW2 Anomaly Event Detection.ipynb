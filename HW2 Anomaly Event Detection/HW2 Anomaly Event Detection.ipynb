{
 "cells": [
  {
   "cell_type": "code",
   "execution_count": 592,
   "id": "846f9b51",
   "metadata": {},
   "outputs": [
    {
     "data": {
      "text/plain": [
       "array([['8/2/2016 12:29', 0.071, 0.0, 0],\n",
       "       ['8/2/2016 12:59', 0.03, 0.0, 0],\n",
       "       ['8/2/2016 13:29', 0.03, 0.0, 0],\n",
       "       ...,\n",
       "       ['6/28/2017 23:59', 1.286, 0.0, 0],\n",
       "       ['6/29/2017 0:29', 1.288, 0.0, 0],\n",
       "       ['6/29/2017 0:59', 1.278, 0.0, 0]], dtype=object)"
      ]
     },
     "execution_count": 592,
     "metadata": {},
     "output_type": "execute_result"
    }
   ],
   "source": [
    "import numpy as np\n",
    "import pandas as pd\n",
    "\n",
    "data = pd.read_csv(\"AG_NO3_fill_cells_remove_NAN.csv\")\n",
    "data = data.dropna()\n",
    "data[\"updated_flag\"] = 0\n",
    "datanp = np.asarray(data)\n",
    "datanp\n",
    "\n",
    "# for x in datanp:\n",
    "#     if(x[2] == 1):\n",
    "#         print(x)"
   ]
  },
  {
   "cell_type": "code",
   "execution_count": 593,
   "id": "d8f1c331",
   "metadata": {},
   "outputs": [
    {
     "name": "stdout",
     "output_type": "stream",
     "text": [
      "anomaly_event_cnt\n",
      "1314\n"
     ]
    }
   ],
   "source": [
    "window_size = 6\n",
    "window_step_size = 1\n",
    "threshold_percentage = 97\n",
    "initial_threshold_value = 1\n",
    "\n",
    "total_rows = len(datanp)\n",
    "total_rows\n",
    "\n",
    "new_threshold_value = initial_threshold_value\n",
    "running_threshold_arr = []\n",
    "np_running_threshold_arr =  np.asarray(running_threshold_arr)\n",
    "\n",
    "runningMean = initial_threshold_value\n",
    "last_n_threshold_runningMean = 50\n",
    "\n",
    "for window_batch_start_index in range(0, total_rows - window_size + 1, window_step_size):\n",
    "    window_batch_data = datanp[window_batch_start_index:window_batch_start_index + window_size]\n",
    "#     print(window_batch_data)\n",
    "    window_batch_data_nitrate =  window_batch_data[:,1]\n",
    "#     print(window_batch_data_nitrate)\n",
    "\n",
    "    value_of_threshold_percentage =  np.percentile(window_batch_data_nitrate, threshold_percentage)\n",
    "    #     print(value_of_threshold_percentage)     \n",
    "    np_running_threshold_arr = np.append(np_running_threshold_arr,value_of_threshold_percentage)\n",
    "    np_running_threshold_arr_len =  len(np_running_threshold_arr) \n",
    "#     print(np_running_threshold_arr)  \n",
    "    \n",
    "#     Moving avg of last n threshold values\n",
    "    \n",
    "    if(np_running_threshold_arr_len > last_n_threshold_runningMean):\n",
    "        lastnarr = np_running_threshold_arr[np_running_threshold_arr_len - last_n_threshold_runningMean: np_running_threshold_arr_len]\n",
    "        runningMean = np.average(lastnarr)\n",
    "        runningMean = runningMean * 1.25\n",
    "        \n",
    "        if(last_n_threshold_runningMean < 150):\n",
    "            last_n_threshold_runningMean = last_n_threshold_runningMean + 1\n",
    "    else:\n",
    "        runningMean = initial_threshold_value\n",
    "    \n",
    "#     print(runningMean)\n",
    "    \n",
    "    if(value_of_threshold_percentage > runningMean):\n",
    "        new_threshold_value = value_of_threshold_percentage          \n",
    "        for batch_index in range(0, window_size):            \n",
    "            if(window_batch_data_nitrate[batch_index] > new_threshold_value):\n",
    "                datanp[window_batch_start_index + batch_index,3] = 1\n",
    "\n",
    "\n",
    "anomaly_events = datanp[datanp[:, 3] == 1, :]\n",
    "print(\"anomaly_event_cnt\")\n",
    "print(len(anomaly_events))\n"
   ]
  },
  {
   "cell_type": "code",
   "execution_count": 594,
   "id": "1479c77c",
   "metadata": {},
   "outputs": [
    {
     "name": "stdout",
     "output_type": "stream",
     "text": [
      "normal event detection accuracy rate is :0.9204754942470281\n",
      "anomaly event detection accuracy rate :0.8181818181818182\n"
     ]
    }
   ],
   "source": [
    "old_anom_detected = (datanp[:, 2] == 1)\n",
    "new_anom_detected = (datanp[:, 3] == 1)\n",
    "\n",
    "# Calculate total anomaly cases\n",
    "total_anomaly_cases = np.sum(old_anom_detected == 1)\n",
    "# print(\"Total Anomaly Cases:\" + str(total_anomaly_cases))\n",
    "\n",
    "# Calculate total anomaly detection cases\n",
    "calculated_anomaly_cases = np.sum(new_anom_detected == 1)\n",
    "# print(\"Calcualted Anomaly Cases:\" + str(calculated_anomaly_cases))\n",
    "\n",
    "# Calculate correct anomaly detection cases\n",
    "correct_calculated_anomaly_cases = np.sum((old_anom_detected == 1) & (new_anom_detected == 1))\n",
    "# print(\"Correct Calcualted Anomaly Cases:\" + str(correct_calculated_anomaly_cases))\n",
    "\n",
    "\n",
    "# Calculate total normal cases\n",
    "total_normal_cases = total_rows - total_anomaly_cases\n",
    "# print(\"Total Normal Cases:\" + str(total_normal_cases))\n",
    "\n",
    "# Calculate correct normal detection cases\n",
    "calculated_normal_cases = total_rows - calculated_anomaly_cases\n",
    "# print(\"Calcualted Normal Cases:\" + str(calculated_normal_cases))\n",
    "\n",
    "# Calculate correct anomaly detection cases\n",
    "correct_calculated_normal_cases = np.sum((old_anom_detected == 0) & (new_anom_detected == 0))\n",
    "# print(\"Correct Calcualted Normal Cases:\" + str(correct_calculated_normal_cases))\n",
    "\n",
    "\n",
    "# Calculate accuracy rates\n",
    "normal_event_detection_accuracy_rate = correct_calculated_normal_cases / total_normal_cases\n",
    "anomaly_event_detection_accuracy_rate = correct_calculated_anomaly_cases / total_anomaly_cases\n",
    "\n",
    "\n",
    "print(\"normal event detection accuracy rate is :\" + str(normal_event_detection_accuracy_rate))\n",
    "print(\"anomaly event detection accuracy rate :\" + str(anomaly_event_detection_accuracy_rate))"
   ]
  },
  {
   "cell_type": "code",
   "execution_count": null,
   "id": "7022b797",
   "metadata": {
    "scrolled": true
   },
   "outputs": [],
   "source": []
  },
  {
   "cell_type": "code",
   "execution_count": 611,
   "id": "94bf6b8a",
   "metadata": {},
   "outputs": [
    {
     "name": "stdout",
     "output_type": "stream",
     "text": [
      "63\n"
     ]
    },
    {
     "data": {
      "image/png": "[encoded data removed]",
      "text/plain": [
       "<Figure size 640x480 with 1 Axes>"
      ]
     },
     "metadata": {},
     "output_type": "display_data"
    },
    {
     "name": "stdout",
     "output_type": "stream",
     "text": [
      "normal event detection accuracy rate is :0.9204754942470281\n",
      "anomaly event detection accuracy rate :0.8181818181818182\n"
     ]
    }
   ],
   "source": [
    "import matplotlib.pyplot as plt\n",
    "import numpy as np\n",
    "from datetime import datetime\n",
    "import math\n",
    "\n",
    "datanp_updated = datanp[datanp[:, 2] == 1, :]\n",
    "datanp_updated = datanp_updated[datanp_updated[:, 3] == 1, :]\n",
    "\n",
    "N = len(datanp_updated)\n",
    "print(N)\n",
    "x = datanp_updated[:,0]\n",
    "y = datanp_updated[:,1]\n",
    "inty = y.astype(int)\n",
    "colors = np.random.rand(N)\n",
    "area = inty ** 2.4\n",
    "\n",
    "xlabels = [dte for dte in x]\n",
    "plt.xticks(ticks=range(len(inty)), labels=xlabels, rotation=90, fontsize=4)\n",
    "plt.scatter(x, y, s=area, c=colors, alpha=0.8, cmap='coolwarm')\n",
    "\n",
    "\n",
    "plt.title(\"Anomaly Events Distribution\")\n",
    "plt.xlabel(\"Date\")\n",
    "plt.ylabel(\"Nitrate Level\")\n",
    "plt.show()\n",
    "\n",
    "\n",
    "print(\"normal event detection accuracy rate is :\" + str(normal_event_detection_accuracy_rate))\n",
    "print(\"anomaly event detection accuracy rate :\" + str(anomaly_event_detection_accuracy_rate))"
   ]
  },
  {
   "cell_type": "code",
   "execution_count": null,
   "id": "727b8f5f",
   "metadata": {},
   "outputs": [],
   "source": []
  },
  {
   "cell_type": "code",
   "execution_count": 416,
   "id": "33edfc45",
   "metadata": {},
   "outputs": [],
   "source": [
    "# import numpy as np\n",
    "\n",
    "# def runningMean(x, n):\n",
    "# #     y = np.zeros((len(x),))\n",
    "# #     for ctr in range(len(x)):\n",
    "# #          y[ctr] = np.sum(x[ctr:(ctr + n)])\n",
    "# #     return y/n\n",
    "#     return np.avg(x[ctr:(ctr + n)])\n",
    "\n",
    "# def runningMeanFast(x, N):\n",
    "#     return np.convolve(x, np.ones((N,))/N)[(N-1):]"
   ]
  }
 ],
 "metadata": {
  "kernelspec": {
   "display_name": "Python 3 (ipykernel)",
   "language": "python",
   "name": "python3"
  },
  "language_info": {
   "codemirror_mode": {
    "name": "ipython",
    "version": 3
   },
   "file_extension": ".py",
   "mimetype": "text/x-python",
   "name": "python",
   "nbconvert_exporter": "python",
   "pygments_lexer": "ipython3",
   "version": "3.11.4"
  }
 },
 "nbformat": 4,
 "nbformat_minor": 5
}
